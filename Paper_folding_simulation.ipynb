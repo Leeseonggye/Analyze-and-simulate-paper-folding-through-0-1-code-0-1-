{
 "cells": [
  {
   "cell_type": "markdown",
   "metadata": {},
   "source": [
    "## 접는횟수 입력"
   ]
  },
  {
   "cell_type": "code",
   "execution_count": 4,
   "metadata": {},
   "outputs": [
    {
     "name": "stdout",
     "output_type": "stream",
     "text": [
      "접는 횟수를 입력하세요:5\n"
     ]
    }
   ],
   "source": [
    "n = int(input('접는 횟수를 입력하세요:'))"
   ]
  },
  {
   "cell_type": "markdown",
   "metadata": {},
   "source": [
    "## 시뮬레이션 코드"
   ]
  },
  {
   "cell_type": "code",
   "execution_count": 5,
   "metadata": {},
   "outputs": [
    {
     "name": "stdout",
     "output_type": "stream",
     "text": [
      "(0,1) code는 1101100111001000110110001100100 입니다\n",
      "code의 길이는 31 입니다\n"
     ]
    }
   ],
   "source": [
    "def zero_one_replace(string):\n",
    "    new_str = ''\n",
    "    for i in range(0,len(string)):\n",
    "        if string[i] == '0':\n",
    "            new_str = new_str+'1'\n",
    "        else:\n",
    "            new_str =new_str +'0'\n",
    "    return new_str\n",
    "\n",
    "code = '0'\n",
    "reverse = '0'\n",
    "\n",
    "for i in range(1,n):\n",
    "    reverse = code[::-1]\n",
    "    front = zero_one_replace(reverse)\n",
    "    code = front+'0'+code\n",
    "    \n",
    "print(\"(0,1) code는 %s 입니다\"%code)\n",
    "print(\"code의 길이는 %d 입니다\"%len(code))"
   ]
  }
 ],
 "metadata": {
  "kernelspec": {
   "display_name": "Python 3",
   "language": "python",
   "name": "python3"
  },
  "language_info": {
   "codemirror_mode": {
    "name": "ipython",
    "version": 3
   },
   "file_extension": ".py",
   "mimetype": "text/x-python",
   "name": "python",
   "nbconvert_exporter": "python",
   "pygments_lexer": "ipython3",
   "version": "3.8.5"
  }
 },
 "nbformat": 4,
 "nbformat_minor": 4
}
